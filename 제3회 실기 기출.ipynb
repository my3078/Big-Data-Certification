{
 "cells": [
  {
   "cell_type": "markdown",
   "metadata": {},
   "source": [
    "## 제 1유형"
   ]
  },
  {
   "cell_type": "markdown",
   "metadata": {},
   "source": [
    "1-1. 다음은 Boston Housing 데이터셋이다. 데이터 중 컬럼들의 결측값을 전부 제거 후 데이터를 처음부터 순서대로 70%를 추출하여 변수 중 'tax'의 사분위수 Q1값을 구하시오."
   ]
  },
  {
   "cell_type": "code",
   "execution_count": 20,
   "metadata": {},
   "outputs": [
    {
     "name": "stdout",
     "output_type": "stream",
     "text": [
      "264.0\n"
     ]
    }
   ],
   "source": [
    "import pandas as pd\n",
    "a = pd.read_csv('3rd_boston_housing.csv')\n",
    "b = a.dropna()\n",
    "#b.isnull().sum()\n",
    "c = b[:int(len(b) * 0.7)]\n",
    "answer = c['tax'].describe()['25%']\n",
    "\n",
    "print(answer)"
   ]
  },
  {
   "cell_type": "markdown",
   "metadata": {},
   "source": [
    "1-2. 다음은 국가별 국내 입국자 수 데이터이다. 2000년도 전체 입국자 평균보다 국내에 많이 입국한 국가의 수를 산출하시오."
   ]
  },
  {
   "cell_type": "code",
   "execution_count": 32,
   "metadata": {},
   "outputs": [
    {
     "name": "stdout",
     "output_type": "stream",
     "text": [
      "7\n"
     ]
    }
   ],
   "source": [
    "import pandas as pd\n",
    "data = pd.read_csv('3rd_tour.csv', index_col = 'year', encoding = 'euc-kr')\n",
    "mean = data.loc[2000].mean()\n",
    "\n",
    "print(sum(data.loc[2000] > mean))"
   ]
  },
  {
   "cell_type": "markdown",
   "metadata": {},
   "source": [
    "1-3. 다음 데이터셋의 컬럼 중 빈값 또는 결측치를 확인하여 결측치의 비율이 높은 변수명을 출력하시오."
   ]
  },
  {
   "cell_type": "code",
   "execution_count": 42,
   "metadata": {},
   "outputs": [
    {
     "name": "stdout",
     "output_type": "stream",
     "text": [
      "Age\n"
     ]
    }
   ],
   "source": [
    "import pandas as pd\n",
    "a = pd.read_csv('3rd_titanic.csv')\n",
    "a.isnull().sum()\n",
    "\n",
    "b = a.isnull().sum()/len(a) * 100\n",
    "#print(b)\n",
    "\n",
    "print(b.sort_values(ascending = False).index[0])"
   ]
  },
  {
   "cell_type": "markdown",
   "metadata": {},
   "source": [
    "## 제 2유형"
   ]
  },
  {
   "cell_type": "markdown",
   "metadata": {},
   "source": [
    "아래 여행객 보험 데이터셋을 참조하여 여행객의 정보들을 기반으로 여행보험 상품 가입 여부 예측하시오.(ID와 예측치를 csv파일로 저장하여 제출하시오.)"
   ]
  },
  {
   "cell_type": "code",
   "execution_count": 1,
   "metadata": {},
   "outputs": [],
   "source": [
    "import pandas as pd\n",
    "\n",
    "test = pd.read_csv('3rd_TravelInsurancePrediction_test.csv')\n",
    "train = pd.read_csv('3rd_TravelInsurancePrediction_train.csv')\n",
    "y = train['TravelInsurance']\n",
    "train = train.drop(['TravelInsurance'], axis = 1)\n",
    "\n",
    "#ID 저장\n",
    "test_id = test['ID']\n",
    "test = test.drop(['ID'], axis = 1)\n",
    "train = train.drop(['ID'], axis = 1)\n",
    "\n",
    "#결측치 확인\n",
    "#결측치 없음\n",
    "# train.isnull().sum()\n",
    "# test.isnull().sum()\n",
    "\n",
    "#라벨인코더(Employment Type, GraduateorNot, FrequentFlyer, EverTravelledAbroad)\n",
    "from sklearn.preprocessing import LabelEncoder\n",
    "le = LabelEncoder()\n",
    "train['Employment Type'] = le.fit_transform(train['Employment Type'])\n",
    "train['GraduateOrNot'] = le.fit_transform(train['GraduateOrNot'])\n",
    "train['FrequentFlyer'] = le.fit_transform(train['FrequentFlyer'])\n",
    "train['EverTravelledAbroad'] = le.fit_transform(train['EverTravelledAbroad'])\n",
    "\n",
    "test['Employment Type'] = le.fit_transform(test['Employment Type'])\n",
    "test['GraduateOrNot'] = le.fit_transform(test['GraduateOrNot'])\n",
    "test['FrequentFlyer'] = le.fit_transform(test['FrequentFlyer'])\n",
    "test['EverTravelledAbroad'] = le.fit_transform(test['EverTravelledAbroad'])\n",
    "\n",
    "#MinMaxScaler\n",
    "from sklearn.preprocessing import MinMaxScaler\n",
    "scaler = MinMaxScaler()\n",
    "scaler.fit(train)\n",
    "train = scaler.transform(train)\n",
    "test = scaler.transform(test)\n",
    "\n",
    "#데이터 분할\n",
    "from sklearn.model_selection import train_test_split\n",
    "x_train, x_valid, y_train, y_valid = train_test_split(train, y, test_size = 0.2, random_state = 49)\n",
    "# print(x_train.shape, x_valid.shape, y_train.shape, y_valid.shape)\n",
    "\n",
    "#모델링\n",
    "from sklearn.ensemble import RandomForestClassifier\n",
    "model = RandomForestClassifier(random_state = 1000, n_estimators = 100, max_depth = 5, min_samples_leaf = 5)\n",
    "model.fit(x_train, y_train)\n",
    "predict = model.predict_proba(x_valid)\n",
    "\n",
    "#roc_auc_score\n",
    "# from sklearn.metrics import roc_auc_score\n",
    "# print(roc_auc_score(y_valid, predict[:,1]))\n",
    "\n",
    "#테스트데이터\n",
    "predict_test = model.predict_proba(test)\n",
    "submit = pd.DataFrame({'ID' : test_id, 'TravelInsurance' : predict_test[:,1]})\n",
    "submit.to_csv('3회.csv', index = False)"
   ]
  }
 ],
 "metadata": {
  "kernelspec": {
   "display_name": "Python 3",
   "language": "python",
   "name": "python3"
  },
  "language_info": {
   "codemirror_mode": {
    "name": "ipython",
    "version": 3
   },
   "file_extension": ".py",
   "mimetype": "text/x-python",
   "name": "python",
   "nbconvert_exporter": "python",
   "pygments_lexer": "ipython3",
   "version": "3.8.5"
  }
 },
 "nbformat": 4,
 "nbformat_minor": 4
}
