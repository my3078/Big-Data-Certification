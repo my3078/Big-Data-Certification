{
 "cells": [
  {
   "cell_type": "markdown",
   "metadata": {},
   "source": [
    "## 제 1유형"
   ]
  },
  {
   "cell_type": "markdown",
   "metadata": {},
   "source": [
    "1-1. 다음은 Boston Housing 데이터셋이다. crim 항목의 상위에서 10번째 값(즉, 상위 10번째 값 중에서 가장 작은 값)으로 상위 10개의 값을 변환하고 age 80이상인 값에 대하여 crim 평균을 구하시오."
   ]
  },
  {
   "cell_type": "code",
   "execution_count": 39,
   "metadata": {},
   "outputs": [
    {
     "name": "stdout",
     "output_type": "stream",
     "text": [
      "5.759386624999999\n"
     ]
    }
   ],
   "source": [
    "import pandas as pd\n",
    "data = pd.read_csv('boston_housing.csv')\n",
    "data_sort = data.sort_values(by = 'crim', ascending = False)\n",
    "data_sort.head(10)\n",
    "def change(series) :\n",
    "    if series >= 25.9406 :\n",
    "        return 25.9406\n",
    "    else :\n",
    "        return series\n",
    "data_sort['crim'] = data_sort['crim'].apply(change)\n",
    "#data_sort.head(10)\n",
    "data_80 = data_sort[data_sort['age'] >= 80]\n",
    "data_80.head(15)\n",
    "print(data_80['crim'].mean())"
   ]
  },
  {
   "cell_type": "markdown",
   "metadata": {},
   "source": [
    "1-2. 주어진 데이터의 첫 번째 행부터 순서대로 80%까지의 데이터를 훈련 데이터로 추출 후 'total_bedrooms' 변수의 결측값(NA)을 'total_bedrooms' 변수의 중앙값으로 대체하고, 대체 전의 'total_bedrooms' 변수 표준편차 값의 차이의 절댓값을 구하시오."
   ]
  },
  {
   "cell_type": "code",
   "execution_count": 18,
   "metadata": {},
   "outputs": [
    {
     "name": "stdout",
     "output_type": "stream",
     "text": [
      "1.975147291645726\n"
     ]
    }
   ],
   "source": [
    "import pandas as pd\n",
    "data = pd.read_csv('california_housing.csv')\n",
    "#print(len(data))\n",
    "a = data[:int(len(data)*0.8)]\n",
    "a_std = a['total_bedrooms'].std()\n",
    "\n",
    "#결측값\n",
    "median = a.median()\n",
    "b = a.fillna(median)\n",
    "#b.isnull().sum()\n",
    "b_std = b['total_bedrooms'].std()\n",
    "\n",
    "print(abs(a_std - b_std))"
   ]
  },
  {
   "cell_type": "markdown",
   "metadata": {},
   "source": [
    "1-3. 다음은 insurance 데이터셋이다. charges 항목의 이상값의 핪을 구하시오.(이상값은 평균에서 1.5표준편차 이상인 값)"
   ]
  },
  {
   "cell_type": "code",
   "execution_count": 1,
   "metadata": {},
   "outputs": [
    {
     "name": "stdout",
     "output_type": "stream",
     "text": [
      "6421430.0206699995\n"
     ]
    }
   ],
   "source": [
    "import pandas as pd\n",
    "data = pd.read_csv('insurance.csv')\n",
    "mean = data['charges'].mean()\n",
    "std = data['charges'].std()\n",
    "#print(mean)\n",
    "#print(std)\n",
    "\n",
    "outlier = data[(data['charges'] >= mean + 1.5 * std) | (data['charges'] <= mean - 1.5 * std)]\n",
    "#outlier.head()\n",
    "\n",
    "print(outlier['charges'].sum())"
   ]
  },
  {
   "cell_type": "markdown",
   "metadata": {},
   "source": [
    "## 제 2유형"
   ]
  },
  {
   "cell_type": "markdown",
   "metadata": {},
   "source": [
    "아래 E - Commerce Shipping Data의 train set을 참조하여 고객이 주문한 물품의 정시 도착 여부를 예측하시오.(ID와 예측치를 csv 파일로 저장하여 제출하시오.)"
   ]
  },
  {
   "cell_type": "code",
   "execution_count": 72,
   "metadata": {},
   "outputs": [],
   "source": [
    "import pandas as pd\n",
    "X_test = pd.read_csv('X_test.csv')\n",
    "X_train = pd.read_csv('X_train.csv')\n",
    "y_train = pd.read_csv('y_train.csv')\n",
    "\n",
    "#데이터 저장\n",
    "test_id = X_test['ID']\n",
    "X_test = X_test.drop(['ID'], axis = 1)\n",
    "X_train = X_train.drop(['ID'], axis = 1)\n",
    "y = y_train['Reached.on.Time_Y.N']\n",
    "\n",
    "#결측치 확인\n",
    "#없음\n",
    "\n",
    "#필요없는 변수 제거\n",
    "X_train = X_train.drop(['Warehouse_block'], axis = 1)\n",
    "X_test = X_test.drop(['Warehouse_block'], axis = 1)\n",
    "\n",
    "\n",
    "#라벨인코더(Mode_of_shipment, Product_importance, Gender)\n",
    "from sklearn.preprocessing import LabelEncoder\n",
    "le = LabelEncoder()\n",
    "X_train['Mode_of_Shipment'] = le.fit_transform(X_train['Mode_of_Shipment'])\n",
    "X_train['Product_importance'] = le.fit_transform(X_train['Product_importance'])\n",
    "X_train['Gender'] = le.fit_transform(X_train['Gender'])\n",
    "\n",
    "X_test['Mode_of_Shipment'] = le.fit_transform(X_test['Mode_of_Shipment'])\n",
    "X_test['Product_importance'] = le.fit_transform(X_test['Product_importance'])\n",
    "X_test['Gender'] = le.fit_transform(X_test['Gender'])\n",
    "\n",
    "#MinMaxScaler\n",
    "from sklearn.preprocessing import MinMaxScaler\n",
    "scaler = MinMaxScaler()\n",
    "scaler.fit(X_train)\n",
    "X_train = scaler.transform(X_train)\n",
    "X_test = scaler.transform(X_test)\n",
    "\n",
    "#데이터 분할\n",
    "from sklearn.model_selection import train_test_split\n",
    "x_train, x_valid, y_train, y_valid = train_test_split(X_train, y, test_size = 0.2, random_state = 49)\n",
    "# print(x_train.shape, x_valid.shape, y_train.shape, y_valid.shape)\n",
    "\n",
    "#모델링\n",
    "from sklearn.ensemble import RandomForestClassifier\n",
    "model = RandomForestClassifier(random_state = 100, n_estimators = 100, max_depth = 10, min_samples_leaf = 10)\n",
    "model.fit(x_train, y_train)\n",
    "predict = model.predict_proba(x_valid)\n",
    "\n",
    "#roc\n",
    "# from sklearn.metrics import roc_auc_score\n",
    "# print(roc_auc_score(y_valid, predict[:,1]))\n",
    "\n",
    "#테스트 데이터셋\n",
    "predict_test = model.predict_proba(X_test)\n",
    "submit = pd.DataFrame({'ID' : test_id, 'Reached.on.Time_Y.N' : predict_test[:,1]})\n",
    "submit.to_csv('submission.csv', index = False)"
   ]
  }
 ],
 "metadata": {
  "kernelspec": {
   "display_name": "Python 3",
   "language": "python",
   "name": "python3"
  },
  "language_info": {
   "codemirror_mode": {
    "name": "ipython",
    "version": 3
   },
   "file_extension": ".py",
   "mimetype": "text/x-python",
   "name": "python",
   "nbconvert_exporter": "python",
   "pygments_lexer": "ipython3",
   "version": "3.8.5"
  }
 },
 "nbformat": 4,
 "nbformat_minor": 4
}
