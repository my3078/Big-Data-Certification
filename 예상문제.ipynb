{
 "cells": [
  {
   "cell_type": "markdown",
   "metadata": {},
   "source": [
    "## 제 1유형 연습문제"
   ]
  },
  {
   "cell_type": "markdown",
   "metadata": {},
   "source": [
    "**1. 이상치를 찾아라(소수점 나이)**\n",
    "\n",
    "주어진 데이터에서 이상치(소수점 나이)를 찾고 올림, 내림, 버림(절사)했을때 3가지 모두 이상치 'age' 평균을 구한 다음 모두 더하여 출력하시오"
   ]
  },
  {
   "cell_type": "code",
   "execution_count": 16,
   "metadata": {},
   "outputs": [
    {
     "name": "stdout",
     "output_type": "stream",
     "text": [
      "69.5\n"
     ]
    }
   ],
   "source": [
    "import pandas as pd\n",
    "import numpy as np\n",
    "data = pd.read_csv('basic1.csv')\n",
    "data.head()\n",
    "\n",
    "#소수점 찾기(원데이터 - 내림 != 0)\n",
    "a = data[data['age'] - np.floor(data['age']) != 0]\n",
    "#올림(ceil)\n",
    "a_1 = np.ceil(a['age']).mean()\n",
    "#내림(floor)\n",
    "a_2 = np.floor(a['age']).mean()\n",
    "#버림(trunc)\n",
    "a_3 = np.trunc(a['age']).mean()\n",
    "\n",
    "print(a_1 + a_2 + a_3)"
   ]
  },
  {
   "cell_type": "markdown",
   "metadata": {},
   "source": [
    "**2. 왜도와 첨도 구하기**\n",
    "\n",
    "주어진 데이터 중 train.csv에서 'SalePrice'컬럼의 왜도와 첨도를 구한 값과, 'SalePrice'컬럼을 스케일링(log1p)로 변환한 이후 왜도와 첨도를 구해 모두 더한 다음 소수점 2째자리까지 출력하시오\n"
   ]
  },
  {
   "cell_type": "code",
   "execution_count": 28,
   "metadata": {},
   "outputs": [
    {
     "name": "stdout",
     "output_type": "stream",
     "text": [
      "9.35\n"
     ]
    }
   ],
   "source": [
    "import pandas as pd\n",
    "import numpy as np\n",
    "data= pd.read_csv('train.csv')\n",
    "\n",
    "#왜도와 첨도\n",
    "data_s = data['SalePrice'].skew()\n",
    "data_k = data['SalePrice'].kurtosis()\n",
    "\n",
    "#로그 변환\n",
    "data['SalePrice'] = np.log1p(data['SalePrice'])\n",
    "r_s = data['SalePrice'].skew()\n",
    "r_k = data['SalePrice'].kurtosis()\n",
    "\n",
    "answer = data_s + data_k + r_s + r_k\n",
    "#print(answer)\n",
    "\n",
    "print(round(answer, 2))"
   ]
  },
  {
   "cell_type": "markdown",
   "metadata": {},
   "source": [
    "**3. 결측치 제거 및 그룹 합계에서 조건에 맞는 값 찾아 출력**\n",
    "\n",
    "주어진 데이터 중 basic1.csv에서 'f1'컬럼 결측 데이터를 제거하고, 'city'와 'f2'을 기준으로 묶어 합계를 구하고, 'city가 경기이면서 f2가 0'인 조건에 만족하는 f1 값을 구하시오"
   ]
  },
  {
   "cell_type": "code",
   "execution_count": 10,
   "metadata": {},
   "outputs": [
    {
     "name": "stdout",
     "output_type": "stream",
     "text": [
      "833.0\n"
     ]
    }
   ],
   "source": [
    "import pandas as pd\n",
    "data = pd.read_csv('basic1.csv')\n",
    "\n",
    "#결측값 제거\n",
    "data = data.dropna(subset = ['f1'])\n",
    "\n",
    "#groupby\n",
    "sum = data.groupby(['city', 'f2']).sum()\n",
    "\n",
    "#첫번째 행\n",
    "print(sum.iloc[0]['f1'])"
   ]
  },
  {
   "cell_type": "markdown",
   "metadata": {},
   "source": [
    "**4.**\n",
    "\n",
    "'f4'컬럼의 값이 'ESFJ'인 데이터를 'ISFJ'로 대체하고, 'city'가 '경기'이면서 'f4'가 'ISFJ'인 데이터 중 'age'컬럼의 최대값을 출력하시오!"
   ]
  },
  {
   "cell_type": "code",
   "execution_count": 58,
   "metadata": {},
   "outputs": [
    {
     "name": "stdout",
     "output_type": "stream",
     "text": [
      "90.0\n"
     ]
    }
   ],
   "source": [
    "import pandas as pd\n",
    "data = pd.read_csv('basic1.csv')\n",
    "#data.head()\n",
    "#data[data['f4'] == 'ESFJ']\n",
    "\n",
    "#ESFJ -> ISFJ로 대체\n",
    "data['f4'] = data['f4'].replace('ESFJ', 'ISFJ')\n",
    "\n",
    "a = data[(data['city'] == '경기') & (data['f4'] == 'ISFJ')]\n",
    "\n",
    "print(a['age'].max())"
   ]
  },
  {
   "cell_type": "markdown",
   "metadata": {},
   "source": [
    "**5.**\n",
    "\n",
    "주어진 데이터 셋에서 'f2' 컬럼이 1인 조건에 해당하는 데이터의 'f1'컬럼 누적합을 계산한다. 이때 발생하는 누적합 결측치는 바로 뒤의 값을 채우고, 누적합의 평균값을 출력한다. (단, 결측치 바로 뒤의 값이 없으면 다음에 나오는 값을 채워넣는다)"
   ]
  },
  {
   "cell_type": "code",
   "execution_count": 82,
   "metadata": {},
   "outputs": [
    {
     "name": "stdout",
     "output_type": "stream",
     "text": [
      "980.3783783783783\n"
     ]
    }
   ],
   "source": [
    "import pandas as pd\n",
    "data = pd.read_csv('basic1.csv')\n",
    "data.head()\n",
    "\n",
    "a = data[data['f2'] == 1]\n",
    "\n",
    "#누적합 계산\n",
    "b = a['f1'].cumsum()\n",
    "\n",
    "#결측치 처리\n",
    "c = b.fillna(method = 'backfill')\n",
    "\n",
    "print(c.mean())"
   ]
  },
  {
   "cell_type": "markdown",
   "metadata": {},
   "source": [
    "**6. 수치형 변수 변환하기**\n",
    "\n",
    "주어진 데이터에서 'f5'컬럼을 표준화(Standardization (Z-score Normalization))하고 그 중앙값을 구하시오"
   ]
  },
  {
   "cell_type": "code",
   "execution_count": 47,
   "metadata": {},
   "outputs": [
    {
     "name": "stdout",
     "output_type": "stream",
     "text": [
      "0.26061962955901524\n"
     ]
    }
   ],
   "source": [
    "import pandas as pd\n",
    "import numpy as np\n",
    "data = pd.read_csv('basic1.csv')\n",
    "a = data[['f5']]\n",
    "\n",
    "from sklearn.preprocessing import StandardScaler\n",
    "scaler = StandardScaler()\n",
    "scaler.fit(a)\n",
    "scaler_a = scaler.transform(a)\n",
    "\n",
    "print(np.median(scaler_a))"
   ]
  },
  {
   "cell_type": "markdown",
   "metadata": {},
   "source": [
    "**7. min-max스케일링 기준 상하위 5% 구하기**\n",
    "\n",
    "주어진 데이터에서 'f5'컬럼을 min-max 스케일 변환한 후, 상위 5%와 하위 5% 값의 합을 구하시오"
   ]
  },
  {
   "cell_type": "code",
   "execution_count": 82,
   "metadata": {
    "scrolled": true
   },
   "outputs": [
    {
     "name": "stdout",
     "output_type": "stream",
     "text": [
      "1.0248740983597389\n"
     ]
    }
   ],
   "source": [
    "import pandas as pd\n",
    "data = pd.read_csv('basic1.csv')\n",
    "\n",
    "from sklearn.preprocessing import MinMaxScaler\n",
    "a = data[['f5']]\n",
    "scaler = MinMaxScaler()\n",
    "scaler.fit(a)\n",
    "scaler_a = scaler.transform(a)\n",
    "\n",
    "b = pd.DataFrame(scaler_a)\n",
    "top = b[0].quantile(q = 0.95)\n",
    "#print(top)\n",
    "\n",
    "low = b[0].quantile(q = 0.05)\n",
    "#print(low)\n",
    "\n",
    "print(top + low)"
   ]
  },
  {
   "cell_type": "markdown",
   "metadata": {},
   "source": [
    "**8. 조건에 맞는 데이터 표준편차 구하기**\n",
    "\n",
    "주어진 데이터 중 basic1.csv에서 'f4'컬럼 값이 'ENFJ'와 'INFP'인 'f1'의 표준편차 차이를 절대값으로 구하시오"
   ]
  },
  {
   "cell_type": "code",
   "execution_count": 97,
   "metadata": {},
   "outputs": [
    {
     "name": "stdout",
     "output_type": "stream",
     "text": [
      "5.859621525876811\n"
     ]
    }
   ],
   "source": [
    "import pandas as pd\n",
    "data = pd.read_csv('basic1.csv')\n",
    "\n",
    "a = data[data['f4'] == 'ENFJ']\n",
    "b = data[data['f4'] == 'INFP']\n",
    "\n",
    "a_1 = a['f1'].std()\n",
    "b_1 = b['f1'].std()\n",
    "\n",
    "print(abs(a_1 - b_1))"
   ]
  },
  {
   "cell_type": "markdown",
   "metadata": {},
   "source": [
    "**9.**\n",
    "\n",
    "city와 f4를 기준으로 f5의 평균값을 구한 다음, f5를 기준으로 상위 7개 값을 모두 더해 출력하시오 (소수점 둘째자리까지 출력)"
   ]
  },
  {
   "cell_type": "code",
   "execution_count": 20,
   "metadata": {},
   "outputs": [
    {
     "name": "stdout",
     "output_type": "stream",
     "text": [
      "643.68\n"
     ]
    }
   ],
   "source": [
    "import pandas as pd\n",
    "data = pd.read_csv('basic1.csv')\n",
    "\n",
    "data = data.groupby(['city', 'f4'])[['f5']].mean()\n",
    "a = data.sort_values(by = 'f5', ascending = False)\n",
    "b = a.head(7)\n",
    "c = b['f5'].sum()\n",
    "\n",
    "print(round(c, 2))"
   ]
  },
  {
   "cell_type": "markdown",
   "metadata": {},
   "source": [
    "**10.**\n",
    "\n",
    "주어진 데이터 셋에서 age컬럼 상위 20개의 데이터를 구한 다음 \n",
    "f1의 결측치를 중앙값으로 채운다.\n",
    "그리고 f4가 ISFJ와 f5가 20 이상인 \n",
    "f1의 평균값을 출력하시오"
   ]
  },
  {
   "cell_type": "code",
   "execution_count": 40,
   "metadata": {},
   "outputs": [
    {
     "name": "stdout",
     "output_type": "stream",
     "text": [
      "73.875\n"
     ]
    },
    {
     "name": "stderr",
     "output_type": "stream",
     "text": [
      "<ipython-input-40-e08847342af3>:9: SettingWithCopyWarning: \n",
      "A value is trying to be set on a copy of a slice from a DataFrame.\n",
      "Try using .loc[row_indexer,col_indexer] = value instead\n",
      "\n",
      "See the caveats in the documentation: https://pandas.pydata.org/pandas-docs/stable/user_guide/indexing.html#returning-a-view-versus-a-copy\n",
      "  a['f1'] = a['f1'].fillna(median)\n"
     ]
    }
   ],
   "source": [
    "import pandas as pd\n",
    "data = pd.read_csv('basic1.csv')\n",
    "\n",
    "data = data.sort_values(by = 'age', ascending = False)\n",
    "a = data.head(20)\n",
    "\n",
    "median = a['f1'].median()\n",
    "\n",
    "a['f1'] = a['f1'].fillna(median)\n",
    "#a.isnull().sum()\n",
    "\n",
    "b = a[(a['f4'] == 'ISFJ') & (a['f5'] >= 20)]\n",
    "\n",
    "print(b['f1'].mean())"
   ]
  },
  {
   "cell_type": "markdown",
   "metadata": {},
   "source": [
    "**11. 2022년 5월 sales의 중앙값을 구하시오**"
   ]
  },
  {
   "cell_type": "code",
   "execution_count": 53,
   "metadata": {},
   "outputs": [
    {
     "name": "stdout",
     "output_type": "stream",
     "text": [
      "1477685.0\n"
     ]
    }
   ],
   "source": [
    "import pandas as pd\n",
    "data = pd.read_csv('basic2.csv')\n",
    "#data.info()\n",
    "\n",
    "#datetime으로 type 변경\n",
    "data['Date'] = pd.to_datetime(data['Date'])\n",
    "\n",
    "data['year'] = data['Date'].dt.year\n",
    "data['month'] = data['Date'].dt.month\n",
    "data['day'] = data['Date'].dt.day\n",
    "data.head()\n",
    "\n",
    "a = data[(data['year'] == 2022) & (data['month'] == 5)]\n",
    "\n",
    "print(a['Sales'].median())"
   ]
  },
  {
   "cell_type": "markdown",
   "metadata": {},
   "source": [
    "**12.(한번 더 보기)**\n",
    "\n",
    "주어진 데이터에서 결측치가 80%이상 되는 컬럼은(변수는) 삭제하고, 80% 미만인 결측치가 있는 컬럼은 'city'별 중앙값으로 값을 대체하고 'f1'컬럼의 평균값을 출력하세요!"
   ]
  },
  {
   "cell_type": "code",
   "execution_count": 214,
   "metadata": {},
   "outputs": [
    {
     "name": "stdout",
     "output_type": "stream",
     "text": [
      "65.52\n"
     ]
    }
   ],
   "source": [
    "import pandas as pd\n",
    "data = pd.read_csv('basic1.csv')\n",
    "\n",
    "#결측치 %\n",
    "#print(data.isnull().sum() / len(data) * 100)\n",
    "\n",
    "#변수 제거\n",
    "data = data.drop(['f3'], axis = 1)\n",
    "\n",
    "#중앙값 대체\n",
    "a = data.groupby(['city'])['f1'].median()\n",
    "#print(a)\n",
    "\n",
    "data['f1'].fillna(data.groupby(['city'])['f1'].transform('median'), inplace = True)\n",
    "data.isnull().sum()\n",
    "\n",
    "print(data['f1'].mean())"
   ]
  },
  {
   "cell_type": "markdown",
   "metadata": {},
   "source": [
    "**13.고객과 잘 맞는 타입 추천**\n",
    "\n",
    "basic1 데이터 중 'f4'를 기준으로 basic3 데이터 'f4'값을 기준으로 병합하고,\n",
    "병합한 데이터에서 r2결측치를 제거한다음, 앞에서 부터 20개 데이터를 선택하고 'f2'컬럼 합을 구하시오"
   ]
  },
  {
   "cell_type": "code",
   "execution_count": 45,
   "metadata": {},
   "outputs": [
    {
     "name": "stdout",
     "output_type": "stream",
     "text": [
      "15\n"
     ]
    }
   ],
   "source": [
    "import pandas as pd\n",
    "a = pd.read_csv('basic1.csv')\n",
    "b = pd.read_csv('basic3.csv')\n",
    "\n",
    "data = pd.merge(a, b, how = 'left', on = 'f4')\n",
    "data.head()\n",
    "\n",
    "data = data.dropna(subset = ['r2'])\n",
    "data.isnull().sum()\n",
    "\n",
    "data = data.iloc[:20]\n",
    "\n",
    "print(data['f2'].sum())"
   ]
  },
  {
   "cell_type": "markdown",
   "metadata": {},
   "source": [
    "**14. 나이 구간 나누기**\n",
    "\n",
    "basic1 데이터 중 'age'컬럼 이상치를 제거하고, 동일한 개수로 나이 순으로 3그룹으로 나눈 뒤 각 그룹의 중앙값을 더하시오\n",
    "(이상치는 음수(0포함), 소수점 값)"
   ]
  },
  {
   "cell_type": "code",
   "execution_count": 1,
   "metadata": {},
   "outputs": [
    {
     "name": "stdout",
     "output_type": "stream",
     "text": [
      "165.0\n"
     ]
    }
   ],
   "source": [
    "import pandas as pd\n",
    "data = pd.read_csv('basic1.csv')\n",
    "\n",
    "data = data[data['age'] > 0]\n",
    "data = data[data['age'] == round(data['age'], 0)]\n",
    "\n",
    "pd.qcut(data['age'], q = 3)\n",
    "\n",
    "data['range'] = pd.qcut(data['age'], q = 3, labels = ['group1', 'group2', 'group3'])\n",
    "data['range'].value_counts()\n",
    "\n",
    "g1 = data[data['range'] == 'group1']['age'].median()\n",
    "g2 = data[data['range'] == 'group2']['age'].median()\n",
    "g3 = data[data['range'] == 'group3']['age'].median()\n",
    "\n",
    "# print(g1)\n",
    "# print(g2)\n",
    "# print(g3)\n",
    "\n",
    "print(g1 + g2 + g3)"
   ]
  },
  {
   "cell_type": "markdown",
   "metadata": {},
   "source": [
    "**15.**\n",
    "\n",
    "주어진 데이터(basic2.csv)에서 주 단위 Sales의 합계를 구하고, 가장 큰 값을 가진 주와 작은 값을 가진 주의 차이를 구하시오(절대값)"
   ]
  },
  {
   "cell_type": "code",
   "execution_count": 2,
   "metadata": {},
   "outputs": [
    {
     "name": "stdout",
     "output_type": "stream",
     "text": [
      "91639050\n"
     ]
    }
   ],
   "source": [
    "import pandas as pd\n",
    "data = pd.read_csv('basic2.csv')\n",
    "\n",
    "data['Date'] = pd.to_datetime(data['Date'])\n",
    "data = data.set_index('Date')\n",
    "\n",
    "#data.head()\n",
    "\n",
    "data_w = data.resample('W').sum()\n",
    "data_w.head()\n",
    "\n",
    "ma = data_w['Sales'].max()\n",
    "# print(ma)\n",
    "mi = data_w['Sales'].min()\n",
    "# print(mi)\n",
    "\n",
    "print(abs(ma - mi))"
   ]
  },
  {
   "cell_type": "markdown",
   "metadata": {},
   "source": [
    "**16.**\n",
    "\n",
    "주어진 데이터 셋에서 f2가 0값인 데이터를 age를 기준으로 오름차순 정렬하고 앞에서 부터 20개의 데이터를 추출한 후 f1 결측치(최소값)를 채우기 전과 후의 분산 차이를 계산하시오 (소수점 둘째 자리까지)"
   ]
  },
  {
   "cell_type": "code",
   "execution_count": 90,
   "metadata": {},
   "outputs": [
    {
     "name": "stdout",
     "output_type": "stream",
     "text": [
      "38.44\n"
     ]
    }
   ],
   "source": [
    "import pandas as pd\n",
    "data = pd.read_csv('basic1.csv')\n",
    "\n",
    "data = data[data['f2'] == 0]\n",
    "data = data.sort_values(by = 'age', ascending = True)\n",
    "data = data.iloc[:20]\n",
    "\n",
    "data.isnull().sum()\n",
    "\n",
    "min = data['f1'].min()\n",
    "data_f = data[['f1']].fillna(min)\n",
    "\n",
    "a = data['f1'].var()\n",
    "b = data_f['f1'].var()\n",
    "\n",
    "print(round(a - b, 2))"
   ]
  },
  {
   "cell_type": "markdown",
   "metadata": {},
   "source": [
    "**17. 상관관계 구하기**\n",
    "\n",
    "주어진 데이터에서 상관관계를 구하고, quality와의 상관관계가 가장 큰 값과, 가장 작은 값을 구한 다음 더하시오!(단, quality와 quality 상관관계 제외, 소수점 둘째 자리까지 출력)"
   ]
  },
  {
   "cell_type": "code",
   "execution_count": 291,
   "metadata": {},
   "outputs": [
    {
     "name": "stdout",
     "output_type": "stream",
     "text": [
      "0.49\n"
     ]
    }
   ],
   "source": [
    "import pandas as pd\n",
    "data = pd.read_csv('winequality-red.csv')\n",
    "\n",
    "data_corr = data.corr()\n",
    "data_corr = data_corr[:-1]\n",
    "max = data_corr['quality'].max()\n",
    "#print(max)\n",
    "min = abs(data_corr['quality']).min()\n",
    "#print(min)\n",
    "\n",
    "print(round(max + min, 2))"
   ]
  },
  {
   "cell_type": "markdown",
   "metadata": {},
   "source": [
    "**18. 중복 데이터 제거**\n",
    "\n",
    "f1의 결측치를 채운 후 age 컬럼의 중복 제거 전과 후의 'f1' 중앙값 차이를 구하시오\n",
    "- 결측치는 f1의 데이터 중 내림차순 정렬 후 10번째 값으로 채움\n",
    "- 중복 데이터 발생시 뒤에 나오는 데이터를 삭제함\n",
    "- 최종 결과값은 절대값으로 출력"
   ]
  },
  {
   "cell_type": "code",
   "execution_count": 131,
   "metadata": {},
   "outputs": [
    {
     "name": "stdout",
     "output_type": "stream",
     "text": [
      "2.5\n"
     ]
    }
   ],
   "source": [
    "import pandas as pd\n",
    "data = pd.read_csv('basic1.csv')\n",
    "\n",
    "data = data.sort_values(by = 'f1', ascending = False)\n",
    "data['f1'] = data['f1'].fillna(data.iloc[9]['f1'])\n",
    "\n",
    "before = data['f1'].median()\n",
    "\n",
    "data = data.drop_duplicates(subset = ['age'])\n",
    "data.shape\n",
    "after = data['f1'].median()\n",
    "\n",
    "print(abs(before - after))"
   ]
  },
  {
   "cell_type": "markdown",
   "metadata": {},
   "source": [
    "**19. 이상치를 찾아라**\n",
    "\n",
    "데이터에서 IQR을 활용해 Fare컬럼의 이상치를 찾고, 이상치 데이터의 여성 수를 구하시오"
   ]
  },
  {
   "cell_type": "code",
   "execution_count": 177,
   "metadata": {},
   "outputs": [
    {
     "name": "stdout",
     "output_type": "stream",
     "text": [
      "70\n"
     ]
    }
   ],
   "source": [
    "import pandas as pd\n",
    "data = pd.read_csv('train (1).csv')\n",
    "data.head()\n",
    "\n",
    "Q1 = data['Fare'].quantile(0.25)\n",
    "Q3 = data['Fare'].quantile(0.75)\n",
    "IQR = Q3 - Q1\n",
    "\n",
    "outdata1 = data[data['Fare'] < (Q1 - IQR*1.5)]\n",
    "outdata2 = data[data['Fare'] > (Q3 + IQR*1.5)]\n",
    "\n",
    "female = outdata2[outdata2['Sex'] == 'female']\n",
    "\n",
    "print(female['Sex'].count())"
   ]
  },
  {
   "cell_type": "markdown",
   "metadata": {},
   "source": [
    "**20. 상위 10개, 하위 10개 차이**\n",
    "\n",
    "주어진 데이터에서 상위 10개 국가의 접종률 평균과 하위 10개 국가의 접종률 평균을 구하고, 그 차이를 구해보세요(단, 100%가 넘는 접종률 제거, 소수 첫째자리까지 출력)"
   ]
  },
  {
   "cell_type": "code",
   "execution_count": 201,
   "metadata": {},
   "outputs": [
    {
     "name": "stdout",
     "output_type": "stream",
     "text": [
      "88.4\n"
     ]
    }
   ],
   "source": [
    "import pandas as pd\n",
    "data = pd.read_csv('covid-vaccination-vs-death_ratio.csv')\n",
    "data.head()\n",
    "\n",
    "data = data.groupby(['country']).max()\n",
    "\n",
    "data = data.sort_values(by = 'ratio', ascending = False)\n",
    "data = data.iloc[1:]\n",
    "\n",
    "top = data['ratio'].head(10).mean()\n",
    "bottom = data['ratio'].tail(10).mean()\n",
    "\n",
    "print(round(top - bottom, 1))"
   ]
  }
 ],
 "metadata": {
  "kernelspec": {
   "display_name": "Python 3",
   "language": "python",
   "name": "python3"
  },
  "language_info": {
   "codemirror_mode": {
    "name": "ipython",
    "version": 3
   },
   "file_extension": ".py",
   "mimetype": "text/x-python",
   "name": "python",
   "nbconvert_exporter": "python",
   "pygments_lexer": "ipython3",
   "version": "3.8.5"
  }
 },
 "nbformat": 4,
 "nbformat_minor": 4
}
