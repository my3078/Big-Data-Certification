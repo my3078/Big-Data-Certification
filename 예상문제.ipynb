{
 "cells": [
  {
   "cell_type": "markdown",
   "metadata": {},
   "source": [
    "## 제 1유형 연습문제"
   ]
  },
  {
   "cell_type": "markdown",
   "metadata": {},
   "source": [
    "**1. 이상치를 찾아라(소수점 나이)**\n",
    "\n",
    "주어진 데이터에서 이상치(소수점 나이)를 찾고 올림, 내림, 버림(절사)했을때 3가지 모두 이상치 'age' 평균을 구한 다음 모두 더하여 출력하시오"
   ]
  },
  {
   "cell_type": "code",
   "execution_count": 16,
   "metadata": {},
   "outputs": [
    {
     "name": "stdout",
     "output_type": "stream",
     "text": [
      "69.5\n"
     ]
    }
   ],
   "source": [
    "import pandas as pd\n",
    "import numpy as np\n",
    "data = pd.read_csv('basic1.csv')\n",
    "data.head()\n",
    "\n",
    "#소수점 찾기(원데이터 - 내림 != 0)\n",
    "a = data[data['age'] - np.floor(data['age']) != 0]\n",
    "#올림(ceil)\n",
    "a_1 = np.ceil(a['age']).mean()\n",
    "#내림(floor)\n",
    "a_2 = np.floor(a['age']).mean()\n",
    "#버림(trunc)\n",
    "a_3 = np.trunc(a['age']).mean()\n",
    "\n",
    "print(a_1 + a_2 + a_3)"
   ]
  },
  {
   "cell_type": "markdown",
   "metadata": {},
   "source": [
    "**2. 왜도와 첨도 구하기**\n",
    "\n",
    "주어진 데이터 중 train.csv에서 'SalePrice'컬럼의 왜도와 첨도를 구한 값과, 'SalePrice'컬럼을 스케일링(log1p)로 변환한 이후 왜도와 첨도를 구해 모두 더한 다음 소수점 2째자리까지 출력하시오\n"
   ]
  },
  {
   "cell_type": "code",
   "execution_count": 28,
   "metadata": {},
   "outputs": [
    {
     "name": "stdout",
     "output_type": "stream",
     "text": [
      "9.35\n"
     ]
    }
   ],
   "source": [
    "import pandas as pd\n",
    "import numpy as np\n",
    "data= pd.read_csv('train.csv')\n",
    "\n",
    "#왜도와 첨도\n",
    "data_s = data['SalePrice'].skew()\n",
    "data_k = data['SalePrice'].kurtosis()\n",
    "\n",
    "#로그 변환\n",
    "data['SalePrice'] = np.log1p(data['SalePrice'])\n",
    "r_s = data['SalePrice'].skew()\n",
    "r_k = data['SalePrice'].kurtosis()\n",
    "\n",
    "answer = data_s + data_k + r_s + r_k\n",
    "#print(answer)\n",
    "\n",
    "print(round(answer, 2))"
   ]
  },
  {
   "cell_type": "markdown",
   "metadata": {},
   "source": [
    "**3. 결측치 제거 및 그룹 합계에서 조건에 맞는 값 찾아 출력**\n",
    "\n",
    "주어진 데이터 중 basic1.csv에서 'f1'컬럼 결측 데이터를 제거하고, 'city'와 'f2'을 기준으로 묶어 합계를 구하고, 'city가 경기이면서 f2가 0'인 조건에 만족하는 f1 값을 구하시오"
   ]
  },
  {
   "cell_type": "code",
   "execution_count": 10,
   "metadata": {},
   "outputs": [
    {
     "name": "stdout",
     "output_type": "stream",
     "text": [
      "833.0\n"
     ]
    }
   ],
   "source": [
    "import pandas as pd\n",
    "data = pd.read_csv('basic1.csv')\n",
    "\n",
    "#결측값 제거\n",
    "data = data.dropna(subset = ['f1'])\n",
    "\n",
    "#groupby\n",
    "sum = data.groupby(['city', 'f2']).sum()\n",
    "\n",
    "#첫번째 행\n",
    "print(sum.iloc[0]['f1'])"
   ]
  },
  {
   "cell_type": "markdown",
   "metadata": {},
   "source": [
    "**4.**\n",
    "\n",
    "'f4'컬럼의 값이 'ESFJ'인 데이터를 'ISFJ'로 대체하고, 'city'가 '경기'이면서 'f4'가 'ISFJ'인 데이터 중 'age'컬럼의 최대값을 출력하시오!"
   ]
  },
  {
   "cell_type": "code",
   "execution_count": 58,
   "metadata": {},
   "outputs": [
    {
     "name": "stdout",
     "output_type": "stream",
     "text": [
      "90.0\n"
     ]
    }
   ],
   "source": [
    "import pandas as pd\n",
    "data = pd.read_csv('basic1.csv')\n",
    "#data.head()\n",
    "#data[data['f4'] == 'ESFJ']\n",
    "\n",
    "#ESFJ -> ISFJ로 대체\n",
    "data['f4'] = data['f4'].replace('ESFJ', 'ISFJ')\n",
    "\n",
    "a = data[(data['city'] == '경기') & (data['f4'] == 'ISFJ')]\n",
    "\n",
    "print(a['age'].max())"
   ]
  },
  {
   "cell_type": "markdown",
   "metadata": {},
   "source": [
    "**5.**\n",
    "\n",
    "주어진 데이터 셋에서 'f2' 컬럼이 1인 조건에 해당하는 데이터의 'f1'컬럼 누적합을 계산한다. 이때 발생하는 누적합 결측치는 바로 뒤의 값을 채우고, 누적합의 평균값을 출력한다. (단, 결측치 바로 뒤의 값이 없으면 다음에 나오는 값을 채워넣는다)"
   ]
  },
  {
   "cell_type": "code",
   "execution_count": 82,
   "metadata": {},
   "outputs": [
    {
     "name": "stdout",
     "output_type": "stream",
     "text": [
      "980.3783783783783\n"
     ]
    }
   ],
   "source": [
    "import pandas as pd\n",
    "data = pd.read_csv('basic1.csv')\n",
    "data.head()\n",
    "\n",
    "a = data[data['f2'] == 1]\n",
    "\n",
    "#누적합 계산\n",
    "b = a['f1'].cumsum()\n",
    "\n",
    "#결측치 처리\n",
    "c = b.fillna(method = 'backfill')\n",
    "\n",
    "print(c.mean())"
   ]
  },
  {
   "cell_type": "markdown",
   "metadata": {},
   "source": [
    "**6. 수치형 변수 변환하기**\n",
    "\n",
    "주어진 데이터에서 'f5'컬럼을 표준화(Standardization (Z-score Normalization))하고 그 중앙값을 구하시오"
   ]
  },
  {
   "cell_type": "code",
   "execution_count": 47,
   "metadata": {},
   "outputs": [
    {
     "name": "stdout",
     "output_type": "stream",
     "text": [
      "0.26061962955901524\n"
     ]
    }
   ],
   "source": [
    "import pandas as pd\n",
    "import numpy as np\n",
    "data = pd.read_csv('basic1.csv')\n",
    "a = data[['f5']]\n",
    "\n",
    "from sklearn.preprocessing import StandardScaler\n",
    "scaler = StandardScaler()\n",
    "scaler.fit(a)\n",
    "scaler_a = scaler.transform(a)\n",
    "\n",
    "print(np.median(scaler_a))"
   ]
  },
  {
   "cell_type": "markdown",
   "metadata": {},
   "source": [
    "**7. min-max스케일링 기준 상하위 5% 구하기**\n",
    "\n",
    "주어진 데이터에서 'f5'컬럼을 min-max 스케일 변환한 후, 상위 5%와 하위 5% 값의 합을 구하시오"
   ]
  },
  {
   "cell_type": "code",
   "execution_count": 82,
   "metadata": {
    "scrolled": true
   },
   "outputs": [
    {
     "name": "stdout",
     "output_type": "stream",
     "text": [
      "1.0248740983597389\n"
     ]
    }
   ],
   "source": [
    "import pandas as pd\n",
    "data = pd.read_csv('basic1.csv')\n",
    "\n",
    "from sklearn.preprocessing import MinMaxScaler\n",
    "a = data[['f5']]\n",
    "scaler = MinMaxScaler()\n",
    "scaler.fit(a)\n",
    "scaler_a = scaler.transform(a)\n",
    "\n",
    "b = pd.DataFrame(scaler_a)\n",
    "top = b[0].quantile(q = 0.95)\n",
    "#print(top)\n",
    "\n",
    "low = b[0].quantile(q = 0.05)\n",
    "#print(low)\n",
    "\n",
    "print(top + low)"
   ]
  },
  {
   "cell_type": "markdown",
   "metadata": {},
   "source": [
    "**8. 조건에 맞는 데이터 표준편차 구하기**\n",
    "\n",
    "주어진 데이터 중 basic1.csv에서 'f4'컬럼 값이 'ENFJ'와 'INFP'인 'f1'의 표준편차 차이를 절대값으로 구하시오"
   ]
  },
  {
   "cell_type": "code",
   "execution_count": 97,
   "metadata": {},
   "outputs": [
    {
     "name": "stdout",
     "output_type": "stream",
     "text": [
      "5.859621525876811\n"
     ]
    }
   ],
   "source": [
    "import pandas as pd\n",
    "data = pd.read_csv('basic1.csv')\n",
    "\n",
    "a = data[data['f4'] == 'ENFJ']\n",
    "b = data[data['f4'] == 'INFP']\n",
    "\n",
    "a_1 = a['f1'].std()\n",
    "b_1 = b['f1'].std()\n",
    "\n",
    "print(abs(a_1 - b_1))"
   ]
  },
  {
   "cell_type": "markdown",
   "metadata": {},
   "source": [
    "**9.**\n",
    "\n",
    "city와 f4를 기준으로 f5의 평균값을 구한 다음, f5를 기준으로 상위 7개 값을 모두 더해 출력하시오 (소수점 둘째자리까지 출력)"
   ]
  },
  {
   "cell_type": "code",
   "execution_count": 167,
   "metadata": {},
   "outputs": [
    {
     "name": "stdout",
     "output_type": "stream",
     "text": [
      "643.68\n"
     ]
    }
   ],
   "source": [
    "import pandas as pd\n",
    "data = pd.read_csv('basic1.csv')\n",
    "\n",
    "data = data.groupby(['city', 'f4'])[['f5']].mean()\n",
    "#정렬\n",
    "a = data.sort_values(by = 'f5', ascending = False)\n",
    "b = a.iloc[:7]\n",
    "\n",
    "c = b['f5'].sum()\n",
    "print(round(c, 2))"
   ]
  },
  {
   "cell_type": "code",
   "execution_count": 20,
   "metadata": {},
   "outputs": [
    {
     "name": "stdout",
     "output_type": "stream",
     "text": [
      "643.68\n"
     ]
    }
   ],
   "source": [
    "import pandas as pd\n",
    "data = pd.read_csv('basic1.csv')\n",
    "\n",
    "data = data.groupby(['city', 'f4'])[['f5']].mean()\n",
    "a = data.sort_values(by = 'f5', ascending = False)\n",
    "b = a.head(7)\n",
    "c = b['f5'].sum()\n",
    "\n",
    "print(round(c, 2))"
   ]
  },
  {
   "cell_type": "markdown",
   "metadata": {},
   "source": [
    "**11.**\n",
    "\n",
    "주어진 데이터 셋에서 age컬럼 상위 20개의 데이터를 구한 다음 \n",
    "f1의 결측치를 중앙값으로 채운다.\n",
    "그리고 f4가 ISFJ와 f5가 20 이상인 \n",
    "f1의 평균값을 출력하시오!"
   ]
  },
  {
   "cell_type": "code",
   "execution_count": 182,
   "metadata": {},
   "outputs": [
    {
     "name": "stdout",
     "output_type": "stream",
     "text": [
      "73.875\n"
     ]
    }
   ],
   "source": [
    "import warnings\n",
    "warnings.filterwarnings('ignore')\n",
    "import pandas as pd\n",
    "data = pd.read_csv('basic1.csv')\n",
    "\n",
    "#상위 20개\n",
    "data = data.sort_values(by = 'age', ascending = False)\n",
    "top_20 = data.iloc[:20]\n",
    "\n",
    "#f1결측치 대입\n",
    "median = top_20['f1'].median()\n",
    "top_20['f1'] = top_20['f1'].fillna(median)\n",
    "\n",
    "a = top_20[(top_20['f4'] == 'ISFJ') & (top_20['f5'] >= 20)]\n",
    "\n",
    "print(a['f1'].mean())"
   ]
  },
  {
   "cell_type": "code",
   "execution_count": 40,
   "metadata": {},
   "outputs": [
    {
     "name": "stdout",
     "output_type": "stream",
     "text": [
      "73.875\n"
     ]
    },
    {
     "name": "stderr",
     "output_type": "stream",
     "text": [
      "<ipython-input-40-e08847342af3>:9: SettingWithCopyWarning: \n",
      "A value is trying to be set on a copy of a slice from a DataFrame.\n",
      "Try using .loc[row_indexer,col_indexer] = value instead\n",
      "\n",
      "See the caveats in the documentation: https://pandas.pydata.org/pandas-docs/stable/user_guide/indexing.html#returning-a-view-versus-a-copy\n",
      "  a['f1'] = a['f1'].fillna(median)\n"
     ]
    }
   ],
   "source": [
    "import pandas as pd\n",
    "data = pd.read_csv('basic1.csv')\n",
    "\n",
    "data = data.sort_values(by = 'age', ascending = False)\n",
    "a = data.head(20)\n",
    "\n",
    "median = a['f1'].median()\n",
    "\n",
    "a['f1'] = a['f1'].fillna(median)\n",
    "#a.isnull().sum()\n",
    "\n",
    "b = a[(a['f4'] == 'ISFJ') & (a['f5'] >= 20)]\n",
    "\n",
    "print(b['f1'].mean())"
   ]
  },
  {
   "cell_type": "markdown",
   "metadata": {},
   "source": [
    "**12. 2022년 5월 sales의 중앙값을 구하시오**"
   ]
  },
  {
   "cell_type": "code",
   "execution_count": 193,
   "metadata": {},
   "outputs": [
    {
     "name": "stdout",
     "output_type": "stream",
     "text": [
      "1477685.0\n"
     ]
    }
   ],
   "source": [
    "import pandas as pd\n",
    "data = pd.read_csv('basic2.csv')\n",
    "\n",
    "data.head()\n",
    "data['Date'] = pd.to_datetime(data['Date'])\n",
    "\n",
    "data['year'] = data['Date'].dt.year\n",
    "data['month'] = data['Date'].dt.month\n",
    "data['day'] = data['Date'].dt.day\n",
    "\n",
    "a = data[(data['year'] == 2022) & (data['month'] == 5)]\n",
    "print(a['Sales'].median())"
   ]
  },
  {
   "cell_type": "code",
   "execution_count": 53,
   "metadata": {},
   "outputs": [
    {
     "name": "stdout",
     "output_type": "stream",
     "text": [
      "1477685.0\n"
     ]
    }
   ],
   "source": [
    "import pandas as pd\n",
    "data = pd.read_csv('basic2.csv')\n",
    "#data.info()\n",
    "\n",
    "#datetime으로 type 변경\n",
    "data['Date'] = pd.to_datetime(data['Date'])\n",
    "\n",
    "data['year'] = data['Date'].dt.year\n",
    "data['month'] = data['Date'].dt.month\n",
    "data['day'] = data['Date'].dt.day\n",
    "data.head()\n",
    "\n",
    "a = data[(data['year'] == 2022) & (data['month'] == 5)]\n",
    "\n",
    "print(a['Sales'].median())"
   ]
  },
  {
   "cell_type": "markdown",
   "metadata": {},
   "source": [
    "**13. 주어진 데이터에서 2022년 5월 주말과 평일의 sales컬럼 평균값 차이를 구하시오 (소수점 둘째자리까지 출력, 반올림)**"
   ]
  },
  {
   "cell_type": "code",
   "execution_count": 63,
   "metadata": {},
   "outputs": [
    {
     "ename": "KeyError",
     "evalue": "'end'",
     "output_type": "error",
     "traceback": [
      "\u001b[1;31m---------------------------------------------------------------------------\u001b[0m",
      "\u001b[1;31mKeyError\u001b[0m                                  Traceback (most recent call last)",
      "\u001b[1;32m~\\anaconda3\\lib\\site-packages\\pandas\\core\\indexes\\base.py\u001b[0m in \u001b[0;36mget_loc\u001b[1;34m(self, key, method, tolerance)\u001b[0m\n\u001b[0;32m   2894\u001b[0m             \u001b[1;32mtry\u001b[0m\u001b[1;33m:\u001b[0m\u001b[1;33m\u001b[0m\u001b[1;33m\u001b[0m\u001b[0m\n\u001b[1;32m-> 2895\u001b[1;33m                 \u001b[1;32mreturn\u001b[0m \u001b[0mself\u001b[0m\u001b[1;33m.\u001b[0m\u001b[0m_engine\u001b[0m\u001b[1;33m.\u001b[0m\u001b[0mget_loc\u001b[0m\u001b[1;33m(\u001b[0m\u001b[0mcasted_key\u001b[0m\u001b[1;33m)\u001b[0m\u001b[1;33m\u001b[0m\u001b[1;33m\u001b[0m\u001b[0m\n\u001b[0m\u001b[0;32m   2896\u001b[0m             \u001b[1;32mexcept\u001b[0m \u001b[0mKeyError\u001b[0m \u001b[1;32mas\u001b[0m \u001b[0merr\u001b[0m\u001b[1;33m:\u001b[0m\u001b[1;33m\u001b[0m\u001b[1;33m\u001b[0m\u001b[0m\n",
      "\u001b[1;32mpandas\\_libs\\index.pyx\u001b[0m in \u001b[0;36mpandas._libs.index.IndexEngine.get_loc\u001b[1;34m()\u001b[0m\n",
      "\u001b[1;32mpandas\\_libs\\index.pyx\u001b[0m in \u001b[0;36mpandas._libs.index.IndexEngine.get_loc\u001b[1;34m()\u001b[0m\n",
      "\u001b[1;32mpandas\\_libs\\hashtable_class_helper.pxi\u001b[0m in \u001b[0;36mpandas._libs.hashtable.PyObjectHashTable.get_item\u001b[1;34m()\u001b[0m\n",
      "\u001b[1;32mpandas\\_libs\\hashtable_class_helper.pxi\u001b[0m in \u001b[0;36mpandas._libs.hashtable.PyObjectHashTable.get_item\u001b[1;34m()\u001b[0m\n",
      "\u001b[1;31mKeyError\u001b[0m: 'end'",
      "\nThe above exception was the direct cause of the following exception:\n",
      "\u001b[1;31mKeyError\u001b[0m                                  Traceback (most recent call last)",
      "\u001b[1;32m<ipython-input-63-8e39de1db593>\u001b[0m in \u001b[0;36m<module>\u001b[1;34m\u001b[0m\n\u001b[0;32m     14\u001b[0m \u001b[0mday\u001b[0m \u001b[1;33m=\u001b[0m \u001b[1;33m(\u001b[0m\u001b[0mdata\u001b[0m\u001b[1;33m[\u001b[0m\u001b[1;34m'year'\u001b[0m\u001b[1;33m]\u001b[0m \u001b[1;33m==\u001b[0m \u001b[1;36m2022\u001b[0m\u001b[1;33m)\u001b[0m \u001b[1;33m&\u001b[0m \u001b[1;33m(\u001b[0m\u001b[0mdata\u001b[0m\u001b[1;33m[\u001b[0m\u001b[1;34m'month'\u001b[0m\u001b[1;33m]\u001b[0m \u001b[1;33m==\u001b[0m \u001b[1;36m5\u001b[0m\u001b[1;33m)\u001b[0m \u001b[1;33m&\u001b[0m \u001b[1;33m(\u001b[0m\u001b[1;33m~\u001b[0m\u001b[0mdata\u001b[0m\u001b[1;33m[\u001b[0m\u001b[1;34m'weekend'\u001b[0m\u001b[1;33m]\u001b[0m\u001b[1;33m)\u001b[0m\u001b[1;33m\u001b[0m\u001b[1;33m\u001b[0m\u001b[0m\n\u001b[0;32m     15\u001b[0m \u001b[1;33m\u001b[0m\u001b[0m\n\u001b[1;32m---> 16\u001b[1;33m \u001b[0mend_mean\u001b[0m \u001b[1;33m=\u001b[0m \u001b[0mdata\u001b[0m\u001b[1;33m[\u001b[0m\u001b[1;34m'end'\u001b[0m\u001b[1;33m]\u001b[0m\u001b[1;33m[\u001b[0m\u001b[1;34m'Sales'\u001b[0m\u001b[1;33m]\u001b[0m\u001b[1;33m.\u001b[0m\u001b[0mmean\u001b[0m\u001b[1;33m(\u001b[0m\u001b[1;33m)\u001b[0m\u001b[1;33m\u001b[0m\u001b[1;33m\u001b[0m\u001b[0m\n\u001b[0m\u001b[0;32m     17\u001b[0m \u001b[0mday_mean\u001b[0m \u001b[1;33m=\u001b[0m \u001b[0mdata\u001b[0m\u001b[1;33m[\u001b[0m\u001b[1;34m'day'\u001b[0m\u001b[1;33m]\u001b[0m\u001b[1;33m[\u001b[0m\u001b[1;34m'Sales'\u001b[0m\u001b[1;33m]\u001b[0m\u001b[1;33m.\u001b[0m\u001b[0mmean\u001b[0m\u001b[1;33m(\u001b[0m\u001b[1;33m)\u001b[0m\u001b[1;33m\u001b[0m\u001b[1;33m\u001b[0m\u001b[0m\n",
      "\u001b[1;32m~\\anaconda3\\lib\\site-packages\\pandas\\core\\frame.py\u001b[0m in \u001b[0;36m__getitem__\u001b[1;34m(self, key)\u001b[0m\n\u001b[0;32m   2900\u001b[0m             \u001b[1;32mif\u001b[0m \u001b[0mself\u001b[0m\u001b[1;33m.\u001b[0m\u001b[0mcolumns\u001b[0m\u001b[1;33m.\u001b[0m\u001b[0mnlevels\u001b[0m \u001b[1;33m>\u001b[0m \u001b[1;36m1\u001b[0m\u001b[1;33m:\u001b[0m\u001b[1;33m\u001b[0m\u001b[1;33m\u001b[0m\u001b[0m\n\u001b[0;32m   2901\u001b[0m                 \u001b[1;32mreturn\u001b[0m \u001b[0mself\u001b[0m\u001b[1;33m.\u001b[0m\u001b[0m_getitem_multilevel\u001b[0m\u001b[1;33m(\u001b[0m\u001b[0mkey\u001b[0m\u001b[1;33m)\u001b[0m\u001b[1;33m\u001b[0m\u001b[1;33m\u001b[0m\u001b[0m\n\u001b[1;32m-> 2902\u001b[1;33m             \u001b[0mindexer\u001b[0m \u001b[1;33m=\u001b[0m \u001b[0mself\u001b[0m\u001b[1;33m.\u001b[0m\u001b[0mcolumns\u001b[0m\u001b[1;33m.\u001b[0m\u001b[0mget_loc\u001b[0m\u001b[1;33m(\u001b[0m\u001b[0mkey\u001b[0m\u001b[1;33m)\u001b[0m\u001b[1;33m\u001b[0m\u001b[1;33m\u001b[0m\u001b[0m\n\u001b[0m\u001b[0;32m   2903\u001b[0m             \u001b[1;32mif\u001b[0m \u001b[0mis_integer\u001b[0m\u001b[1;33m(\u001b[0m\u001b[0mindexer\u001b[0m\u001b[1;33m)\u001b[0m\u001b[1;33m:\u001b[0m\u001b[1;33m\u001b[0m\u001b[1;33m\u001b[0m\u001b[0m\n\u001b[0;32m   2904\u001b[0m                 \u001b[0mindexer\u001b[0m \u001b[1;33m=\u001b[0m \u001b[1;33m[\u001b[0m\u001b[0mindexer\u001b[0m\u001b[1;33m]\u001b[0m\u001b[1;33m\u001b[0m\u001b[1;33m\u001b[0m\u001b[0m\n",
      "\u001b[1;32m~\\anaconda3\\lib\\site-packages\\pandas\\core\\indexes\\base.py\u001b[0m in \u001b[0;36mget_loc\u001b[1;34m(self, key, method, tolerance)\u001b[0m\n\u001b[0;32m   2895\u001b[0m                 \u001b[1;32mreturn\u001b[0m \u001b[0mself\u001b[0m\u001b[1;33m.\u001b[0m\u001b[0m_engine\u001b[0m\u001b[1;33m.\u001b[0m\u001b[0mget_loc\u001b[0m\u001b[1;33m(\u001b[0m\u001b[0mcasted_key\u001b[0m\u001b[1;33m)\u001b[0m\u001b[1;33m\u001b[0m\u001b[1;33m\u001b[0m\u001b[0m\n\u001b[0;32m   2896\u001b[0m             \u001b[1;32mexcept\u001b[0m \u001b[0mKeyError\u001b[0m \u001b[1;32mas\u001b[0m \u001b[0merr\u001b[0m\u001b[1;33m:\u001b[0m\u001b[1;33m\u001b[0m\u001b[1;33m\u001b[0m\u001b[0m\n\u001b[1;32m-> 2897\u001b[1;33m                 \u001b[1;32mraise\u001b[0m \u001b[0mKeyError\u001b[0m\u001b[1;33m(\u001b[0m\u001b[0mkey\u001b[0m\u001b[1;33m)\u001b[0m \u001b[1;32mfrom\u001b[0m \u001b[0merr\u001b[0m\u001b[1;33m\u001b[0m\u001b[1;33m\u001b[0m\u001b[0m\n\u001b[0m\u001b[0;32m   2898\u001b[0m \u001b[1;33m\u001b[0m\u001b[0m\n\u001b[0;32m   2899\u001b[0m         \u001b[1;32mif\u001b[0m \u001b[0mtolerance\u001b[0m \u001b[1;32mis\u001b[0m \u001b[1;32mnot\u001b[0m \u001b[1;32mNone\u001b[0m\u001b[1;33m:\u001b[0m\u001b[1;33m\u001b[0m\u001b[1;33m\u001b[0m\u001b[0m\n",
      "\u001b[1;31mKeyError\u001b[0m: 'end'"
     ]
    }
   ],
   "source": [
    "import pandas as pd\n",
    "data = pd.read_csv('basic2.csv')\n",
    "data.head()\n",
    "\n",
    "data['Date'] = pd.to_datetime(data['Date'])\n",
    "data['year'] = data['Date'].dt.year\n",
    "data['month'] = data['Date'].dt.month\n",
    "data['day'] = data['Date'].dt.year\n",
    "data['dayofweek'] = data['Date'].dt.dayofweek\n",
    "data['weekend'] = data['dayofweek'].apply(lambda x: x>=5, 1, 0)\n",
    "data.head()\n",
    "\n",
    "end = (data['year'] == 2022) & (data['month'] == 5) & (data['weekend'])\n",
    "day = (data['year'] == 2022) & (data['month'] == 5) & (~data['weekend']) \n",
    "\n",
    "end_mean = data['end']['Sales'].mean()\n",
    "day_mean = data['day']['Sales'].mean()\n",
    "\n",
    "print(round(end_mean - day_mean, 2))"
   ]
  },
  {
   "cell_type": "markdown",
   "metadata": {},
   "source": [
    "**14.**\n",
    "\n",
    "주어진 데이터에서 2022년 월별 Sales 합계 중 가장 큰 금액과 2023년 월별 Sales 합계 중 가장 큰 금액의 차이를 절대값으로 구하시오. 단 Events컬럼이 '1'인경우 80%의 Salse값만 반영함(최종값은 소수점 반올림 후 정수 출력)"
   ]
  },
  {
   "cell_type": "code",
   "execution_count": 12,
   "metadata": {},
   "outputs": [
    {
     "ename": "KeyError",
     "evalue": "'cond'",
     "output_type": "error",
     "traceback": [
      "\u001b[1;31m---------------------------------------------------------------------------\u001b[0m",
      "\u001b[1;31mKeyError\u001b[0m                                  Traceback (most recent call last)",
      "\u001b[1;32m~\\anaconda3\\lib\\site-packages\\pandas\\core\\indexes\\base.py\u001b[0m in \u001b[0;36mget_loc\u001b[1;34m(self, key, method, tolerance)\u001b[0m\n\u001b[0;32m   2894\u001b[0m             \u001b[1;32mtry\u001b[0m\u001b[1;33m:\u001b[0m\u001b[1;33m\u001b[0m\u001b[1;33m\u001b[0m\u001b[0m\n\u001b[1;32m-> 2895\u001b[1;33m                 \u001b[1;32mreturn\u001b[0m \u001b[0mself\u001b[0m\u001b[1;33m.\u001b[0m\u001b[0m_engine\u001b[0m\u001b[1;33m.\u001b[0m\u001b[0mget_loc\u001b[0m\u001b[1;33m(\u001b[0m\u001b[0mcasted_key\u001b[0m\u001b[1;33m)\u001b[0m\u001b[1;33m\u001b[0m\u001b[1;33m\u001b[0m\u001b[0m\n\u001b[0m\u001b[0;32m   2896\u001b[0m             \u001b[1;32mexcept\u001b[0m \u001b[0mKeyError\u001b[0m \u001b[1;32mas\u001b[0m \u001b[0merr\u001b[0m\u001b[1;33m:\u001b[0m\u001b[1;33m\u001b[0m\u001b[1;33m\u001b[0m\u001b[0m\n",
      "\u001b[1;32mpandas\\_libs\\index.pyx\u001b[0m in \u001b[0;36mpandas._libs.index.IndexEngine.get_loc\u001b[1;34m()\u001b[0m\n",
      "\u001b[1;32mpandas\\_libs\\index.pyx\u001b[0m in \u001b[0;36mpandas._libs.index.IndexEngine.get_loc\u001b[1;34m()\u001b[0m\n",
      "\u001b[1;32mpandas\\_libs\\hashtable_class_helper.pxi\u001b[0m in \u001b[0;36mpandas._libs.hashtable.PyObjectHashTable.get_item\u001b[1;34m()\u001b[0m\n",
      "\u001b[1;32mpandas\\_libs\\hashtable_class_helper.pxi\u001b[0m in \u001b[0;36mpandas._libs.hashtable.PyObjectHashTable.get_item\u001b[1;34m()\u001b[0m\n",
      "\u001b[1;31mKeyError\u001b[0m: 'cond'",
      "\nThe above exception was the direct cause of the following exception:\n",
      "\u001b[1;31mKeyError\u001b[0m                                  Traceback (most recent call last)",
      "\u001b[1;32m<ipython-input-12-3f234b4da2b2>\u001b[0m in \u001b[0;36m<module>\u001b[1;34m\u001b[0m\n\u001b[0;32m     19\u001b[0m \u001b[1;33m\u001b[0m\u001b[0m\n\u001b[0;32m     20\u001b[0m \u001b[0mcond\u001b[0m \u001b[1;33m=\u001b[0m \u001b[1;33m(\u001b[0m\u001b[0mdata\u001b[0m\u001b[1;33m[\u001b[0m\u001b[1;34m'year'\u001b[0m\u001b[1;33m]\u001b[0m \u001b[1;33m==\u001b[0m \u001b[1;36m2022\u001b[0m\u001b[1;33m)\u001b[0m\u001b[1;33m\u001b[0m\u001b[1;33m\u001b[0m\u001b[0m\n\u001b[1;32m---> 21\u001b[1;33m \u001b[0mdata1\u001b[0m \u001b[1;33m=\u001b[0m \u001b[0mdata\u001b[0m\u001b[1;33m[\u001b[0m\u001b[1;34m'cond'\u001b[0m\u001b[1;33m]\u001b[0m\u001b[1;33m\u001b[0m\u001b[1;33m\u001b[0m\u001b[0m\n\u001b[0m\u001b[0;32m     22\u001b[0m \u001b[0msale1\u001b[0m \u001b[1;33m=\u001b[0m \u001b[0mdata1\u001b[0m\u001b[1;33m.\u001b[0m\u001b[0mgroupby\u001b[0m\u001b[1;33m(\u001b[0m\u001b[1;34m'month'\u001b[0m\u001b[1;33m)\u001b[0m\u001b[1;33m[\u001b[0m\u001b[1;34m'Sales2'\u001b[0m\u001b[1;33m]\u001b[0m\u001b[1;33m.\u001b[0m\u001b[0msum\u001b[0m\u001b[1;33m(\u001b[0m\u001b[1;33m)\u001b[0m\u001b[1;33m.\u001b[0m\u001b[0mmax\u001b[0m\u001b[1;33m(\u001b[0m\u001b[1;33m)\u001b[0m\u001b[1;33m\u001b[0m\u001b[1;33m\u001b[0m\u001b[0m\n\u001b[0;32m     23\u001b[0m \u001b[0mprint\u001b[0m\u001b[1;33m(\u001b[0m\u001b[0msale1\u001b[0m\u001b[1;33m)\u001b[0m\u001b[1;33m\u001b[0m\u001b[1;33m\u001b[0m\u001b[0m\n",
      "\u001b[1;32m~\\anaconda3\\lib\\site-packages\\pandas\\core\\frame.py\u001b[0m in \u001b[0;36m__getitem__\u001b[1;34m(self, key)\u001b[0m\n\u001b[0;32m   2900\u001b[0m             \u001b[1;32mif\u001b[0m \u001b[0mself\u001b[0m\u001b[1;33m.\u001b[0m\u001b[0mcolumns\u001b[0m\u001b[1;33m.\u001b[0m\u001b[0mnlevels\u001b[0m \u001b[1;33m>\u001b[0m \u001b[1;36m1\u001b[0m\u001b[1;33m:\u001b[0m\u001b[1;33m\u001b[0m\u001b[1;33m\u001b[0m\u001b[0m\n\u001b[0;32m   2901\u001b[0m                 \u001b[1;32mreturn\u001b[0m \u001b[0mself\u001b[0m\u001b[1;33m.\u001b[0m\u001b[0m_getitem_multilevel\u001b[0m\u001b[1;33m(\u001b[0m\u001b[0mkey\u001b[0m\u001b[1;33m)\u001b[0m\u001b[1;33m\u001b[0m\u001b[1;33m\u001b[0m\u001b[0m\n\u001b[1;32m-> 2902\u001b[1;33m             \u001b[0mindexer\u001b[0m \u001b[1;33m=\u001b[0m \u001b[0mself\u001b[0m\u001b[1;33m.\u001b[0m\u001b[0mcolumns\u001b[0m\u001b[1;33m.\u001b[0m\u001b[0mget_loc\u001b[0m\u001b[1;33m(\u001b[0m\u001b[0mkey\u001b[0m\u001b[1;33m)\u001b[0m\u001b[1;33m\u001b[0m\u001b[1;33m\u001b[0m\u001b[0m\n\u001b[0m\u001b[0;32m   2903\u001b[0m             \u001b[1;32mif\u001b[0m \u001b[0mis_integer\u001b[0m\u001b[1;33m(\u001b[0m\u001b[0mindexer\u001b[0m\u001b[1;33m)\u001b[0m\u001b[1;33m:\u001b[0m\u001b[1;33m\u001b[0m\u001b[1;33m\u001b[0m\u001b[0m\n\u001b[0;32m   2904\u001b[0m                 \u001b[0mindexer\u001b[0m \u001b[1;33m=\u001b[0m \u001b[1;33m[\u001b[0m\u001b[0mindexer\u001b[0m\u001b[1;33m]\u001b[0m\u001b[1;33m\u001b[0m\u001b[1;33m\u001b[0m\u001b[0m\n",
      "\u001b[1;32m~\\anaconda3\\lib\\site-packages\\pandas\\core\\indexes\\base.py\u001b[0m in \u001b[0;36mget_loc\u001b[1;34m(self, key, method, tolerance)\u001b[0m\n\u001b[0;32m   2895\u001b[0m                 \u001b[1;32mreturn\u001b[0m \u001b[0mself\u001b[0m\u001b[1;33m.\u001b[0m\u001b[0m_engine\u001b[0m\u001b[1;33m.\u001b[0m\u001b[0mget_loc\u001b[0m\u001b[1;33m(\u001b[0m\u001b[0mcasted_key\u001b[0m\u001b[1;33m)\u001b[0m\u001b[1;33m\u001b[0m\u001b[1;33m\u001b[0m\u001b[0m\n\u001b[0;32m   2896\u001b[0m             \u001b[1;32mexcept\u001b[0m \u001b[0mKeyError\u001b[0m \u001b[1;32mas\u001b[0m \u001b[0merr\u001b[0m\u001b[1;33m:\u001b[0m\u001b[1;33m\u001b[0m\u001b[1;33m\u001b[0m\u001b[0m\n\u001b[1;32m-> 2897\u001b[1;33m                 \u001b[1;32mraise\u001b[0m \u001b[0mKeyError\u001b[0m\u001b[1;33m(\u001b[0m\u001b[0mkey\u001b[0m\u001b[1;33m)\u001b[0m \u001b[1;32mfrom\u001b[0m \u001b[0merr\u001b[0m\u001b[1;33m\u001b[0m\u001b[1;33m\u001b[0m\u001b[0m\n\u001b[0m\u001b[0;32m   2898\u001b[0m \u001b[1;33m\u001b[0m\u001b[0m\n\u001b[0;32m   2899\u001b[0m         \u001b[1;32mif\u001b[0m \u001b[0mtolerance\u001b[0m \u001b[1;32mis\u001b[0m \u001b[1;32mnot\u001b[0m \u001b[1;32mNone\u001b[0m\u001b[1;33m:\u001b[0m\u001b[1;33m\u001b[0m\u001b[1;33m\u001b[0m\u001b[0m\n",
      "\u001b[1;31mKeyError\u001b[0m: 'cond'"
     ]
    }
   ],
   "source": [
    "import pandas as pd\n",
    "data = pd.read_csv('basic2.csv')\n",
    "data['Date'] = pd.to_datetime(data['Date'])\n",
    "\n",
    "data['year'] = data['Date'].dt.year\n",
    "data['month'] = data['Date'].dt.month\n",
    "data['day'] = data['Date'].dt.day\n",
    "data.head()\n",
    "data['dayofweek'] = data['Date'].dt.dayofweek\n",
    "\n",
    "def event_sales(x) :\n",
    "    if x['Events'] == 1:\n",
    "        x['Sales2'] = x['Sales'] * 0.8\n",
    "    else :\n",
    "        x['Sales2'] = x['Sales']\n",
    "    return x\n",
    "\n",
    "data = data.apply(lambda x : event_sales(x), axis = 1)\n",
    "\n",
    "cond = (data['year'] == 2022)\n",
    "data1 = data['cond']\n",
    "sale1 = data1.groupby('month')['Sales2'].sum().max()\n",
    "print(sale1)"
   ]
  },
  {
   "cell_type": "markdown",
   "metadata": {},
   "source": [
    "**15.(한번 더 보기)**\n",
    "\n",
    "주어진 데이터에서 결측치가 80%이상 되는 컬럼은(변수는) 삭제하고, 80% 미만인 결측치가 있는 컬럼은 'city'별 중앙값으로 값을 대체하고 'f1'컬럼의 평균값을 출력하세요!"
   ]
  },
  {
   "cell_type": "code",
   "execution_count": 9,
   "metadata": {},
   "outputs": [
    {
     "name": "stdout",
     "output_type": "stream",
     "text": [
      "65.52\n"
     ]
    }
   ],
   "source": [
    "import pandas as pd\n",
    "data= pd.read_csv('basic1.csv')\n",
    "\n",
    "# print(data.isnull().sum()/len(data)*100)\n",
    "#f3을 제거하고 f1의 결측치는 대체\n",
    "data = data.drop(['f3'], axis = 1)\n",
    "\n",
    "data['f1'].fillna(data.groupby(['city'])['f1'].transform('median'), inplace = True)\n",
    "\n",
    "print(data['f1'].mean())"
   ]
  },
  {
   "cell_type": "code",
   "execution_count": 214,
   "metadata": {},
   "outputs": [
    {
     "name": "stdout",
     "output_type": "stream",
     "text": [
      "65.52\n"
     ]
    }
   ],
   "source": [
    "import pandas as pd\n",
    "data = pd.read_csv('basic1.csv')\n",
    "\n",
    "#결측치 %\n",
    "#print(data.isnull().sum() / len(data) * 100)\n",
    "\n",
    "#변수 제거\n",
    "data = data.drop(['f3'], axis = 1)\n",
    "\n",
    "#중앙값 대체\n",
    "a = data.groupby(['city'])['f1'].median()\n",
    "#print(a)\n",
    "\n",
    "data['f1'].fillna(data.groupby(['city'])['f1'].transform('median'), inplace = True)\n",
    "data.isnull().sum()\n",
    "\n",
    "print(data['f1'].mean())"
   ]
  },
  {
   "cell_type": "code",
   "execution_count": 21,
   "metadata": {},
   "outputs": [
    {
     "name": "stdout",
     "output_type": "stream",
     "text": [
      "65.52\n"
     ]
    }
   ],
   "source": [
    "import pandas as pd\n",
    "data = pd.read_csv('basic1.csv')\n",
    "\n",
    "data.isnull().sum()/len(data)*100\n",
    "data = data.drop(['f3'], axis = 1)\n",
    "\n",
    "data.groupby(['city'])['f1'].median()\n",
    "data['f1'].fillna(data.groupby(['city'])['f1'].transform('median'), inplace = True)\n",
    "\n",
    "print(data['f1'].mean())"
   ]
  },
  {
   "cell_type": "markdown",
   "metadata": {},
   "source": [
    "**16.고객과 잘 맞는 타입 추천**\n",
    "\n",
    "basic1 데이터 중 'f4'를 기준으로 basic3 데이터 'f4'값을 기준으로 병합하고,\n",
    "병합한 데이터에서 r2결측치를 제거한다음, 앞에서 부터 20개 데이터를 선택하고 'f2'컬럼 합을 구하시오"
   ]
  },
  {
   "cell_type": "code",
   "execution_count": 228,
   "metadata": {},
   "outputs": [
    {
     "name": "stdout",
     "output_type": "stream",
     "text": [
      "15\n"
     ]
    }
   ],
   "source": [
    "import pandas as pd\n",
    "a = pd.read_csv('basic1.csv')\n",
    "b = pd.read_csv('basic3.csv')\n",
    "\n",
    "#데이터 병합\n",
    "data = pd.merge(a, b, how = 'left', on = 'f4')\n",
    "\n",
    "#print(data.isnull().sum())\n",
    "\n",
    "#r2결측치 제거\n",
    "data = data.dropna(subset = ['r2'])\n",
    "\n",
    "#20개 선택\n",
    "top_20 = data.iloc[:20]\n",
    "\n",
    "print(top_20['f2'].sum())"
   ]
  },
  {
   "cell_type": "code",
   "execution_count": 45,
   "metadata": {},
   "outputs": [
    {
     "name": "stdout",
     "output_type": "stream",
     "text": [
      "15\n"
     ]
    }
   ],
   "source": [
    "import pandas as pd\n",
    "a = pd.read_csv('basic1.csv')\n",
    "b = pd.read_csv('basic3.csv')\n",
    "\n",
    "data = pd.merge(a, b, how = 'left', on = 'f4')\n",
    "data.head()\n",
    "\n",
    "data = data.dropna(subset = ['r2'])\n",
    "data.isnull().sum()\n",
    "\n",
    "data = data.iloc[:20]\n",
    "\n",
    "print(data['f2'].sum())"
   ]
  },
  {
   "cell_type": "markdown",
   "metadata": {},
   "source": [
    "**17. 나이 구간 나누기**\n",
    "\n",
    "basic1 데이터 중 'age'컬럼 이상치를 제거하고, 동일한 개수로 나이 순으로 3그룹으로 나눈 뒤 각 그룹의 중앙값을 더하시오\n",
    "(이상치는 음수(0포함), 소수점 값)"
   ]
  },
  {
   "cell_type": "code",
   "execution_count": 249,
   "metadata": {},
   "outputs": [
    {
     "name": "stdout",
     "output_type": "stream",
     "text": [
      "165.0\n"
     ]
    }
   ],
   "source": [
    "import pandas as pd\n",
    "import numpy as np\n",
    "data = pd.read_csv('basic1.csv')\n",
    "\n",
    "#이상치 제거\n",
    "data = data[data['age'] > 0]\n",
    "data = data[data['age'] == round(data['age'], 0)]\n",
    "\n",
    "#3그룹으로 나누기\n",
    "data['label'] = pd.qcut(data['age'], q = 3, labels = ['group1', 'group2', 'group3'])\n",
    "\n",
    "#중앙값\n",
    "median1 = data[data['label'] == 'group1']['age'].median()\n",
    "median2 = data[data['label'] == 'group2']['age'].median()\n",
    "median3 = data[data['label'] == 'group3']['age'].median()\n",
    "\n",
    "print(median1 + median2 + median3)"
   ]
  },
  {
   "cell_type": "code",
   "execution_count": 59,
   "metadata": {},
   "outputs": [
    {
     "name": "stdout",
     "output_type": "stream",
     "text": [
      "22.5\n",
      "55.5\n",
      "87.0\n",
      "165.0\n"
     ]
    }
   ],
   "source": [
    "import pandas as pd\n",
    "data = pd.read_csv('basic1.csv')\n",
    "\n",
    "data = data[data['age'] > 0]\n",
    "data = data[data['age'] == round(data['age'], 0)]\n",
    "\n",
    "pd.qcut(data['age'], q = 3)\n",
    "\n",
    "data['range'] = pd.qcut(data['age'], q = 3, labels = ['group1', 'group2', 'group3'])\n",
    "data['range'].value_counts()\n",
    "\n",
    "g1 = data[data['range'] == 'group1']['age'].median()\n",
    "g2 = data[data['range'] == 'group2']['age'].median()\n",
    "g3 = data[data['range'] == 'group3']['age'].median()\n",
    "\n",
    "# print(g1)\n",
    "# print(g2)\n",
    "# print(g3)\n",
    "\n",
    "print(g1 + g2 + g3)"
   ]
  },
  {
   "cell_type": "markdown",
   "metadata": {},
   "source": [
    "**18.**\n",
    "\n",
    "주어진 데이터(basic2.csv)에서 주 단위 Sales의 합계를 구하고, 가장 큰 값을 가진 주와 작은 값을 가진 주의 차이를 구하시오(절대값)"
   ]
  },
  {
   "cell_type": "code",
   "execution_count": 69,
   "metadata": {},
   "outputs": [
    {
     "name": "stdout",
     "output_type": "stream",
     "text": [
      "99165648\n",
      "7526598\n",
      "91639050\n"
     ]
    }
   ],
   "source": [
    "import pandas as pd\n",
    "data = pd.read_csv('basic2.csv')\n",
    "\n",
    "data['Date'] = pd.to_datetime(data['Date'])\n",
    "data = data.set_index('Date')\n",
    "\n",
    "#data.head()\n",
    "\n",
    "data_w = data.resample('W').sum()\n",
    "data_w.head()\n",
    "\n",
    "ma = data_w['Sales'].max()\n",
    "print(ma)\n",
    "mi = data_w['Sales'].min()\n",
    "print(mi)\n",
    "\n",
    "print(abs(ma - mi))"
   ]
  },
  {
   "cell_type": "markdown",
   "metadata": {},
   "source": [
    "**20.**\n",
    "\n",
    "주어진 데이터 셋에서 f2가 0값인 데이터를 age를 기준으로 오름차순 정렬하고 앞에서 부터 20개의 데이터를 추출한 후 f1 결측치(최소값)를 채우기 전과 후의 분산 차이를 계산하시오 (소수점 둘째 자리까지)"
   ]
  },
  {
   "cell_type": "code",
   "execution_count": 267,
   "metadata": {},
   "outputs": [
    {
     "name": "stdout",
     "output_type": "stream",
     "text": [
      "38.44\n"
     ]
    }
   ],
   "source": [
    "import pandas as pd\n",
    "data = pd.read_csv('basic1.csv')\n",
    "\n",
    "a = data[data['f2'] == 0]\n",
    "a = a.sort_values(by = 'age', ascending = True)\n",
    "\n",
    "b = a.iloc[:20]\n",
    "#print(b)\n",
    "\n",
    "#결측치 채우기 전 분산\n",
    "var_1 = b['f1'].var()\n",
    "#print(var_1)\n",
    "#결측치 채운 후 분산\n",
    "min = b['f1'].min()\n",
    "b['f1'] = b['f1'].fillna(min)\n",
    "\n",
    "var_2 = b['f1'].var()\n",
    "\n",
    "print(round(var_1 - var_2, 2))"
   ]
  },
  {
   "cell_type": "code",
   "execution_count": 90,
   "metadata": {},
   "outputs": [
    {
     "name": "stdout",
     "output_type": "stream",
     "text": [
      "38.44\n"
     ]
    }
   ],
   "source": [
    "import pandas as pd\n",
    "data = pd.read_csv('basic1.csv')\n",
    "\n",
    "data = data[data['f2'] == 0]\n",
    "data = data.sort_values(by = 'age', ascending = True)\n",
    "data = data.iloc[:20]\n",
    "\n",
    "data.isnull().sum()\n",
    "\n",
    "min = data['f1'].min()\n",
    "data_f = data[['f1']].fillna(min)\n",
    "\n",
    "a = data['f1'].var()\n",
    "b = data_f['f1'].var()\n",
    "\n",
    "print(round(a - b, 2))"
   ]
  },
  {
   "cell_type": "markdown",
   "metadata": {},
   "source": [
    "**21. 상관관계 구하기**\n",
    "\n",
    "주어진 데이터에서 상관관계를 구하고, quality와의 상관관계가 가장 큰 값과, 가장 작은 값을 구한 다음 더하시오!(단, quality와 quality 상관관계 제외, 소수점 둘째 자리까지 출력)"
   ]
  },
  {
   "cell_type": "code",
   "execution_count": 29,
   "metadata": {},
   "outputs": [
    {
     "name": "stdout",
     "output_type": "stream",
     "text": [
      "0.49\n"
     ]
    }
   ],
   "source": [
    "import pandas as pd\n",
    "data = pd.read_csv('winequality-red.csv')\n",
    "\n",
    "data_corr = data.corr()\n",
    "data_corr = data_corr[:-1]\n",
    "\n",
    "a = data_corr['quality']\n",
    "\n",
    "max = abs(a).max()\n",
    "min = abs(a).min()\n",
    "\n",
    "print(round(max + min, 2))"
   ]
  },
  {
   "cell_type": "code",
   "execution_count": 13,
   "metadata": {},
   "outputs": [
    {
     "name": "stdout",
     "output_type": "stream",
     "text": [
      "0.49\n"
     ]
    }
   ],
   "source": [
    "import pandas as pd\n",
    "data = pd.read_csv('winequality-red.csv')\n",
    "\n",
    "#상관관계 구하기\n",
    "data_corr = data.corr()\n",
    "data_corr = data_corr[:-1]\n",
    "\n",
    "a = data_corr['quality']\n",
    "\n",
    "#상관관계가 가장 큰 값\n",
    "max = abs(a).max()\n",
    "#상관관계가 가장 작은 값\n",
    "min = abs(a).min()\n",
    "\n",
    "print(round(max + min, 2))"
   ]
  },
  {
   "cell_type": "code",
   "execution_count": 291,
   "metadata": {},
   "outputs": [
    {
     "name": "stdout",
     "output_type": "stream",
     "text": [
      "0.49\n"
     ]
    }
   ],
   "source": [
    "import pandas as pd\n",
    "data = pd.read_csv('winequality-red.csv')\n",
    "\n",
    "data_corr = data.corr()\n",
    "data_corr = data_corr[:-1]\n",
    "max = data_corr['quality'].max()\n",
    "#print(max)\n",
    "min = abs(data_corr['quality']).min()\n",
    "#print(min)\n",
    "\n",
    "print(round(max + min, 2))"
   ]
  },
  {
   "cell_type": "markdown",
   "metadata": {},
   "source": [
    "**22. 중복 데이터 제거**\n",
    "\n",
    "f1의 결측치를 채운 후 age 컬럼의 중복 제거 전과 후의 'f1' 중앙값 차이를 구하시오\n",
    "- 결측치는 f1의 데이터 중 내림차순 정렬 후 10번째 값으로 채움\n",
    "- 중복 데이터 발생시 뒤에 나오는 데이터를 삭제함\n",
    "- 최종 결과값은 절대값으로 출력"
   ]
  },
  {
   "cell_type": "code",
   "execution_count": 314,
   "metadata": {},
   "outputs": [
    {
     "name": "stdout",
     "output_type": "stream",
     "text": [
      "2.5\n"
     ]
    }
   ],
   "source": [
    "import pandas as pd\n",
    "data = pd.read_csv('basic1.csv')\n",
    "\n",
    "data = data.sort_values(by = 'f1', ascending = False)\n",
    "data.head(10)\n",
    "\n",
    "#결측치 채우기(88.0)\n",
    "data['f1'] = data['f1'].fillna(88.0)\n",
    "\n",
    "#중복제거 전 중앙값\n",
    "a = data['f1'].median()\n",
    "\n",
    "#중복제거하기\n",
    "data_1 = data.drop_duplicates(subset = ['age'], keep = 'last')\n",
    "\n",
    "#중복제거 후 중앙값\n",
    "b = data_1['f1'].median()\n",
    "\n",
    "print(abs(a - b))"
   ]
  },
  {
   "cell_type": "code",
   "execution_count": 131,
   "metadata": {},
   "outputs": [
    {
     "name": "stdout",
     "output_type": "stream",
     "text": [
      "2.5\n"
     ]
    }
   ],
   "source": [
    "import pandas as pd\n",
    "data = pd.read_csv('basic1.csv')\n",
    "\n",
    "data = data.sort_values(by = 'f1', ascending = False)\n",
    "data['f1'] = data['f1'].fillna(data.iloc[9]['f1'])\n",
    "\n",
    "before = data['f1'].median()\n",
    "\n",
    "data = data.drop_duplicates(subset = ['age'])\n",
    "data.shape\n",
    "after = data['f1'].median()\n",
    "\n",
    "print(abs(before - after))"
   ]
  },
  {
   "cell_type": "markdown",
   "metadata": {},
   "source": [
    "**23. 이상치를 찾아라**\n",
    "\n",
    "데이터에서 IQR을 활용해 Fare컬럼의 이상치를 찾고, 이상치 데이터의 여성 수를 구하시오"
   ]
  },
  {
   "cell_type": "code",
   "execution_count": 330,
   "metadata": {},
   "outputs": [
    {
     "name": "stdout",
     "output_type": "stream",
     "text": [
      "70\n"
     ]
    }
   ],
   "source": [
    "import pandas as pd\n",
    "data = pd.read_csv('train (1).csv')\n",
    "data.head()\n",
    "\n",
    "#IQR\n",
    "Q1 = data['Fare'].quantile(0.25)\n",
    "Q3 = data['Fare'].quantile(0.75)\n",
    "IQR = Q3 - Q1\n",
    "\n",
    "outdata1 = data[data['Fare'] > (Q3 + IQR * 1.5)]\n",
    "outdata2 = data[data['Fare'] < (Q1 - IQR * 1.5)]\n",
    "\n",
    "female = outdata1[outdata1['Sex'] == 'female']\n",
    "\n",
    "print(female['Sex'].count())"
   ]
  },
  {
   "cell_type": "code",
   "execution_count": 177,
   "metadata": {},
   "outputs": [
    {
     "name": "stdout",
     "output_type": "stream",
     "text": [
      "70\n"
     ]
    }
   ],
   "source": [
    "import pandas as pd\n",
    "data = pd.read_csv('train (1).csv')\n",
    "data.head()\n",
    "\n",
    "Q1 = data['Fare'].quantile(0.25)\n",
    "Q3 = data['Fare'].quantile(0.75)\n",
    "IQR = Q3 - Q1\n",
    "\n",
    "outdata1 = data[data['Fare'] < (Q1 - IQR*1.5)]\n",
    "outdata2 = data[data['Fare'] > (Q3 + IQR*1.5)]\n",
    "\n",
    "female = outdata2[outdata2['Sex'] == 'female']\n",
    "\n",
    "print(female['Sex'].count())"
   ]
  },
  {
   "cell_type": "markdown",
   "metadata": {},
   "source": [
    "**24. 상위 10개, 하위 10개 차이**\n",
    "\n",
    "주어진 데이터에서 상위 10개 국가의 접종률 평균과 하위 10개 국가의 접종률 평균을 구하고, 그 차이를 구해보세요(단, 100%가 넘는 접종률 제거, 소수 첫째자리까지 출력)"
   ]
  },
  {
   "cell_type": "code",
   "execution_count": 347,
   "metadata": {},
   "outputs": [
    {
     "name": "stdout",
     "output_type": "stream",
     "text": [
      "88.4\n"
     ]
    }
   ],
   "source": [
    "import pandas as pd\n",
    "data = pd.read_csv('covid-vaccination-vs-death_ratio.csv')\n",
    "data.head()\n",
    "\n",
    "data = data.groupby(['country']).max()\n",
    "\n",
    "#데이터 정렬\n",
    "data = data.sort_values(by = 'ratio', ascending = False)\n",
    "data = data.iloc[1:]\n",
    "\n",
    "#상위 10개\n",
    "top = data.head(10)\n",
    "a = top['ratio'].mean()\n",
    "\n",
    "#하위 10개\n",
    "low = data.tail(10)\n",
    "b = low['ratio'].mean()\n",
    "\n",
    "print(round(a - b, 1))"
   ]
  },
  {
   "cell_type": "code",
   "execution_count": 201,
   "metadata": {},
   "outputs": [
    {
     "name": "stdout",
     "output_type": "stream",
     "text": [
      "88.4\n"
     ]
    }
   ],
   "source": [
    "import pandas as pd\n",
    "data = pd.read_csv('covid-vaccination-vs-death_ratio.csv')\n",
    "data.head()\n",
    "\n",
    "data = data.groupby(['country']).max()\n",
    "\n",
    "data = data.sort_values(by = 'ratio', ascending = False)\n",
    "data = data.iloc[1:]\n",
    "\n",
    "top = data['ratio'].head(10).mean()\n",
    "bottom = data['ratio'].tail(10).mean()\n",
    "\n",
    "print(round(top - bottom, 1))"
   ]
  },
  {
   "cell_type": "markdown",
   "metadata": {},
   "source": [
    "출처 : https://www.kaggle.com/datasets/agileteam/bigdatacertificationkr"
   ]
  }
 ],
 "metadata": {
  "kernelspec": {
   "display_name": "Python 3",
   "language": "python",
   "name": "python3"
  },
  "language_info": {
   "codemirror_mode": {
    "name": "ipython",
    "version": 3
   },
   "file_extension": ".py",
   "mimetype": "text/x-python",
   "name": "python",
   "nbconvert_exporter": "python",
   "pygments_lexer": "ipython3",
   "version": "3.8.5"
  }
 },
 "nbformat": 4,
 "nbformat_minor": 4
}
